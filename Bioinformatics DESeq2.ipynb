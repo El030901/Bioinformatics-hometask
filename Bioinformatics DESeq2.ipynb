{
 "cells": [
  {
   "cell_type": "code",
   "execution_count": 1,
   "metadata": {},
   "outputs": [
    {
     "name": "stdout",
     "output_type": "stream",
     "text": [
      "Collecting rpy2\n",
      "  Downloading rpy2-3.4.4-cp37-cp37m-macosx_10_14_x86_64.whl (235 kB)\n",
      "\u001b[K     |████████████████████████████████| 235 kB 630 kB/s eta 0:00:01\n",
      "\u001b[?25hRequirement already satisfied: pytz in /opt/anaconda3/lib/python3.7/site-packages (from rpy2) (2019.3)\n",
      "Requirement already satisfied: jinja2 in /opt/anaconda3/lib/python3.7/site-packages (from rpy2) (2.11.1)\n",
      "Requirement already satisfied: cffi>=1.10.0 in /opt/anaconda3/lib/python3.7/site-packages (from rpy2) (1.14.0)\n",
      "Collecting tzlocal\n",
      "  Downloading tzlocal-2.1-py2.py3-none-any.whl (16 kB)\n",
      "Requirement already satisfied: MarkupSafe>=0.23 in /opt/anaconda3/lib/python3.7/site-packages (from jinja2->rpy2) (1.1.1)\n",
      "Requirement already satisfied: pycparser in /opt/anaconda3/lib/python3.7/site-packages (from cffi>=1.10.0->rpy2) (2.19)\n",
      "Installing collected packages: tzlocal, rpy2\n",
      "Successfully installed rpy2-3.4.4 tzlocal-2.1\n"
     ]
    }
   ],
   "source": [
    "!pip install rpy2"
   ]
  },
  {
   "cell_type": "code",
   "execution_count": null,
   "metadata": {},
   "outputs": [],
   "source": [
    "import pandas as pd\n",
    "\n",
    "from rpy2 import robjects\n",
    "from rpy2.robjects import Formula\n",
    "\n",
    "from rpy2.robjects import pandas2ri\n",
    "pandas2ri.activate()\n",
    "\n",
    "from rpy2.robjects.packages import importr\n",
    "\n",
    "base = importr(\"base\")\n",
    "stats = importr(\"stats\")\n",
    "DESeq2 = importr(\"DESeq2\")\n",
    "\n",
    "# Load read counts table\n",
    "counts = pd.read_csv(\"colon_cancer_tumor_vs_normal_paired_counts.tsv\", sep=\"\\t\", index_col=0)\n",
    "\n",
    "# Define meta\n",
    "meta = pd.DataFrame({\"Tissue\": [\"Tumor\"]*5 + [\"Normal\"]*5}, index=counts.columns)\n",
    "meta[\"Tissue\"] = stats.relevel(robjects.vectors.FactorVector(meta[\"Tissue\"]), ref=\"Normal\")\n",
    "\n",
    "# Calculate normalization factors\n",
    "dds = DESeq2.DESeqDataSetFromMatrix(countData=counts, colData=meta, design=Formula(\"~ Tissue\"))\n",
    "dds = DESeq2.DESeq(dds)\n",
    "\n",
    "res = DESeq2.results(dds, name=\"Tissue_Tumor_vs_Normal\")\n",
    "res = DESeq2.lfcShrink(dds, coef=\"Tissue_Tumor_vs_Normal\", type=\"apeglm\")\n",
    "res = pd.DataFrame(base.as_data_frame(res))\n",
    "res.index = counts.index\n",
    "res = res.sort_values(\"padj\")\n",
    "res = res.loc[res[\"padj\"] < 0.05]\n",
    "res = res.loc[res[\"log2FoldChange\"].abs() >= 1]\n",
    "\n",
    "res.to_csv(\"DESeq2_results_unpaired.tsv\", sep=\"\\t\")"
   ]
  }
 ],
 "metadata": {
  "kernelspec": {
   "display_name": "Python 3",
   "language": "python",
   "name": "python3"
  },
  "language_info": {
   "codemirror_mode": {
    "name": "ipython",
    "version": 3
   },
   "file_extension": ".py",
   "mimetype": "text/x-python",
   "name": "python",
   "nbconvert_exporter": "python",
   "pygments_lexer": "ipython3",
   "version": "3.7.6"
  }
 },
 "nbformat": 4,
 "nbformat_minor": 4
}
